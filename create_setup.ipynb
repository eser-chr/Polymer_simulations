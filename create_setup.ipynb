{
 "cells": [
  {
   "cell_type": "code",
   "execution_count": 4,
   "id": "7beccd35-fdd5-44ad-8d51-2a76cb65f1fd",
   "metadata": {},
   "outputs": [],
   "source": [
    "from my_package.setup_lib import create_combos, save_setup"
   ]
  },
  {
   "cell_type": "code",
   "execution_count": 7,
   "id": "1ae43d6f-5a29-42f0-8f67-84604e7fddfe",
   "metadata": {},
   "outputs": [],
   "source": [
    "grid =  { \"--gamma\": [1.0], \"--dt\":[0.01],\"--N\":[100], \"--L\":[46.4, 69.3, 100.0], \"--steps\":[int(1e2)],\n",
    "                    \"--integrator\": ['brownian'], \"--block_size\":[1000], \"--A\":[3.0]}\n",
    "\n",
    "copies = 1\n",
    "\n",
    "name = 'test'\n",
    "com = create_combos(grid, copies)\n",
    "save_setup(com, name = name)"
   ]
  },
  {
   "cell_type": "code",
   "execution_count": null,
   "id": "97a9674c-503a-43ff-9171-47cbe145a4a8",
   "metadata": {},
   "outputs": [],
   "source": []
  }
 ],
 "metadata": {
  "kernelspec": {
   "display_name": "Python 3",
   "language": "python",
   "name": "python3"
  },
  "language_info": {
   "codemirror_mode": {
    "name": "ipython",
    "version": 3
   },
   "file_extension": ".py",
   "mimetype": "text/x-python",
   "name": "python",
   "nbconvert_exporter": "python",
   "pygments_lexer": "ipython3",
   "version": "3.9.12"
  }
 },
 "nbformat": 4,
 "nbformat_minor": 5
}
