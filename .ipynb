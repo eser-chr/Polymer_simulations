{
 "cells": [
  {
   "cell_type": "code",
   "execution_count": 32,
   "id": "3c64c019-2841-4aed-8ea8-cec5cb09645c",
   "metadata": {},
   "outputs": [],
   "source": [
    "import pickle"
   ]
  },
  {
   "cell_type": "code",
   "execution_count": 33,
   "id": "56409695-b6d0-4472-8f22-dfcce77dc9b1",
   "metadata": {},
   "outputs": [],
   "source": [
    "import pickle\n",
    "def program(it:int):\n",
    "    with open('ID','rb') as f:\n",
    "        A = pickle.load(f)\n",
    "    print(A)    \n",
    "    A[0]+=A[1]\n",
    "    A[1] = it\n",
    "    print(A)\n",
    "    with open('ID','wb') as f:\n",
    "        pickle.dump(A,f)"
   ]
  },
  {
   "cell_type": "code",
   "execution_count": 34,
   "id": "7bdfa892-afe7-4d74-8311-95975e04fafb",
   "metadata": {},
   "outputs": [
    {
     "data": {
      "text/plain": [
       "[14, 1]"
      ]
     },
     "execution_count": 34,
     "metadata": {},
     "output_type": "execute_result"
    }
   ],
   "source": [
    "f = open('ID','rb')\n",
    "B = pickle.load(f)\n",
    "B"
   ]
  },
  {
   "cell_type": "code",
   "execution_count": 29,
   "id": "c29d8ba0-70ca-4285-aa4d-728dd0c78f3e",
   "metadata": {},
   "outputs": [
    {
     "name": "stdout",
     "output_type": "stream",
     "text": [
      "[10, 4]\n",
      "[14, 1]\n"
     ]
    }
   ],
   "source": [
    "program(1)"
   ]
  },
  {
   "cell_type": "code",
   "execution_count": null,
   "id": "ad8d3294-7717-42c5-a35c-ab727bccbbe3",
   "metadata": {},
   "outputs": [],
   "source": []
  }
 ],
 "metadata": {
  "kernelspec": {
   "display_name": "Python 3",
   "language": "python",
   "name": "python3"
  },
  "language_info": {
   "codemirror_mode": {
    "name": "ipython",
    "version": 3
   },
   "file_extension": ".py",
   "mimetype": "text/x-python",
   "name": "python",
   "nbconvert_exporter": "python",
   "pygments_lexer": "ipython3",
   "version": "3.9.12"
  }
 },
 "nbformat": 4,
 "nbformat_minor": 5
}
