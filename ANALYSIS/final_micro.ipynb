{
 "cells": [
  {
   "cell_type": "code",
   "execution_count": 1,
   "id": "7e89724e-87df-4095-9d42-737073c356b6",
   "metadata": {},
   "outputs": [
    {
     "name": "stderr",
     "output_type": "stream",
     "text": [
      "/users/christofor.eseroglou/.conda/envs/chris/lib/python3.10/site-packages/scipy/__init__.py:146: UserWarning: A NumPy version >=1.16.5 and <1.23.0 is required for this version of SciPy (detected version 1.23.1\n",
      "  warnings.warn(f\"A NumPy version >={np_minversion} and <{np_maxversion}\"\n"
     ]
    }
   ],
   "source": [
    "import pandas as pd\n",
    "import numpy as np\n",
    "import matplotlib.pyplot as plt\n",
    "from tqdm import tqdm\n",
    "import seaborn as sns\n",
    "import pickle\n",
    "from utils import exp\n",
    "from itertools import chain\n",
    "from msd_lib import MSD\n",
    "plt.style.use(\"seaborn\")\n",
    "sns.set_context(\"paper\", font_scale=2)  \n",
    "import matplotlib as mpl\n",
    "\n",
    "mpl.rcParams['font.size']=18"
   ]
  },
  {
   "cell_type": "code",
   "execution_count": 2,
   "id": "39ad614a-e99f-47da-ba48-2fabc48b95ca",
   "metadata": {},
   "outputs": [],
   "source": [
    "from microstr_lib import Bonds\n",
    "from microstr_lib import Velocities"
   ]
  },
  {
   "cell_type": "code",
   "execution_count": 8,
   "id": "03934af7-5446-47e0-b310-8dc9e693417f",
   "metadata": {},
   "outputs": [],
   "source": [
    "data = pd.read_csv('../catalog.csv')\n",
    "data = data[(data['N']==100_000)&(data['kT']>0.9)]\n"
   ]
  },
  {
   "cell_type": "code",
   "execution_count": 9,
   "id": "291551fa-b6cf-4c3b-9ae4-857a04226483",
   "metadata": {},
   "outputs": [
    {
     "name": "stderr",
     "output_type": "stream",
     "text": [
      "100%|██████████| 25/25 [14:43<00:00, 35.33s/it]\n"
     ]
    }
   ],
   "source": [
    "def run(data):\n",
    "    results = {}\n",
    "    for ide in tqdm(list(data['id'])):\n",
    "        obj = Bonds(exp(ide))\n",
    "        obj.calc_opts()\n",
    "        results[ide]=[obj.mu, obj.sigma]\n",
    "    return results\n",
    "\n",
    "RES = run(data)\n",
    "\n",
    "with open('final_bonds', 'wb') as f:\n",
    "    pickle.dump(RES, f)"
   ]
  },
  {
   "cell_type": "code",
   "execution_count": 10,
   "id": "b5ddeac5-11ad-4796-9481-ac61e5e88ce7",
   "metadata": {},
   "outputs": [
    {
     "name": "stderr",
     "output_type": "stream",
     "text": [
      "100%|██████████| 25/25 [12:10<00:00, 29.21s/it]\n"
     ]
    }
   ],
   "source": [
    "def run_b(data):\n",
    "    results = {}\n",
    "    for ide in tqdm(list(data['id'])):\n",
    "        obj = Velocities(exp(ide))\n",
    "        obj.calc_alphas()\n",
    "        results[ide]=obj.alphas\n",
    "    return results\n",
    "\n",
    "RES_b = run_b(data)\n",
    "\n",
    "with open('final_vel', 'wb') as f:\n",
    "    pickle.dump(RES_b, f)"
   ]
  },
  {
   "cell_type": "code",
   "execution_count": null,
   "id": "1b607f86-6144-4fea-bbad-3e4a82d161ec",
   "metadata": {},
   "outputs": [],
   "source": [
    "alphas"
   ]
  }
 ],
 "metadata": {
  "kernelspec": {
   "display_name": "Python [conda env:.conda-chris]",
   "language": "python",
   "name": "conda-env-.conda-chris-py"
  },
  "language_info": {
   "codemirror_mode": {
    "name": "ipython",
    "version": 3
   },
   "file_extension": ".py",
   "mimetype": "text/x-python",
   "name": "python",
   "nbconvert_exporter": "python",
   "pygments_lexer": "ipython3",
   "version": "3.10.4"
  }
 },
 "nbformat": 4,
 "nbformat_minor": 5
}
