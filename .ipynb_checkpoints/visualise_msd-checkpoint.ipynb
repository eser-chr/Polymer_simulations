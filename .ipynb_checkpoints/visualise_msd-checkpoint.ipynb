{
 "cells": [
  {
   "cell_type": "code",
   "execution_count": 66,
   "id": "b6621592-2724-4b2b-8f4b-f3ab1822dc3b",
   "metadata": {},
   "outputs": [],
   "source": [
    "import numpy as np\n",
    "import matplotlib.pyplot as plt\n",
    "import pandas as pd"
   ]
  },
  {
   "cell_type": "code",
   "execution_count": 65,
   "id": "6a384b5c-860c-4cdc-a61e-853b355e285d",
   "metadata": {},
   "outputs": [
    {
     "data": {
      "text/plain": [
       "'/users/christofor.eseroglou'"
      ]
     },
     "execution_count": 65,
     "metadata": {},
     "output_type": "execute_result"
    }
   ],
   "source": [
    "pwd"
   ]
  },
  {
   "cell_type": "code",
   "execution_count": 133,
   "id": "2fb309e7-350b-4ca0-969a-0e2a9ef9f06c",
   "metadata": {},
   "outputs": [],
   "source": [
    "file = './SCRIPTS/test3.csv'\n",
    "\n",
    "data = pd.read_csv(file)"
   ]
  },
  {
   "cell_type": "code",
   "execution_count": 142,
   "id": "d0d25559-76b9-40f0-85f4-f96e3465f7f0",
   "metadata": {},
   "outputs": [],
   "source": [
    "data['Mean'] = data.mean(axis = 1)"
   ]
  },
  {
   "cell_type": "code",
   "execution_count": 143,
   "id": "1d30fe56-3251-4a6e-8316-d71f5ac47bc3",
   "metadata": {},
   "outputs": [
    {
     "data": {
      "text/html": [
       "<div>\n",
       "<style scoped>\n",
       "    .dataframe tbody tr th:only-of-type {\n",
       "        vertical-align: middle;\n",
       "    }\n",
       "\n",
       "    .dataframe tbody tr th {\n",
       "        vertical-align: top;\n",
       "    }\n",
       "\n",
       "    .dataframe thead th {\n",
       "        text-align: right;\n",
       "    }\n",
       "</style>\n",
       "<table border=\"1\" class=\"dataframe\">\n",
       "  <thead>\n",
       "    <tr style=\"text-align: right;\">\n",
       "      <th></th>\n",
       "      <th>0</th>\n",
       "      <th>1</th>\n",
       "      <th>2</th>\n",
       "      <th>3</th>\n",
       "      <th>4</th>\n",
       "      <th>5</th>\n",
       "      <th>6</th>\n",
       "      <th>7</th>\n",
       "      <th>8</th>\n",
       "      <th>9</th>\n",
       "      <th>...</th>\n",
       "      <th>41</th>\n",
       "      <th>42</th>\n",
       "      <th>43</th>\n",
       "      <th>44</th>\n",
       "      <th>45</th>\n",
       "      <th>46</th>\n",
       "      <th>47</th>\n",
       "      <th>48</th>\n",
       "      <th>49</th>\n",
       "      <th>Mean</th>\n",
       "    </tr>\n",
       "  </thead>\n",
       "  <tbody>\n",
       "    <tr>\n",
       "      <th>0</th>\n",
       "      <td>0.000000</td>\n",
       "      <td>0.000000</td>\n",
       "      <td>0.000000</td>\n",
       "      <td>0.000000</td>\n",
       "      <td>0.000000</td>\n",
       "      <td>0.000000</td>\n",
       "      <td>0.000000</td>\n",
       "      <td>0.000000</td>\n",
       "      <td>0.000000</td>\n",
       "      <td>0.000000</td>\n",
       "      <td>...</td>\n",
       "      <td>0.000000</td>\n",
       "      <td>0.000000</td>\n",
       "      <td>0.000000</td>\n",
       "      <td>0.000000</td>\n",
       "      <td>0.000000</td>\n",
       "      <td>0.000000</td>\n",
       "      <td>0.000000</td>\n",
       "      <td>0.000000</td>\n",
       "      <td>0.000000</td>\n",
       "      <td>0.000000</td>\n",
       "    </tr>\n",
       "    <tr>\n",
       "      <th>1</th>\n",
       "      <td>46.324585</td>\n",
       "      <td>50.084620</td>\n",
       "      <td>27.260536</td>\n",
       "      <td>40.508575</td>\n",
       "      <td>40.320354</td>\n",
       "      <td>33.031452</td>\n",
       "      <td>28.927416</td>\n",
       "      <td>45.057274</td>\n",
       "      <td>37.992620</td>\n",
       "      <td>19.394957</td>\n",
       "      <td>...</td>\n",
       "      <td>31.647535</td>\n",
       "      <td>38.586956</td>\n",
       "      <td>18.990576</td>\n",
       "      <td>21.252000</td>\n",
       "      <td>35.566906</td>\n",
       "      <td>45.848650</td>\n",
       "      <td>21.971952</td>\n",
       "      <td>34.102474</td>\n",
       "      <td>40.638245</td>\n",
       "      <td>34.989878</td>\n",
       "    </tr>\n",
       "    <tr>\n",
       "      <th>2</th>\n",
       "      <td>18.484009</td>\n",
       "      <td>21.217888</td>\n",
       "      <td>12.914585</td>\n",
       "      <td>19.163000</td>\n",
       "      <td>15.538988</td>\n",
       "      <td>40.199165</td>\n",
       "      <td>13.867811</td>\n",
       "      <td>22.487036</td>\n",
       "      <td>21.987583</td>\n",
       "      <td>23.401094</td>\n",
       "      <td>...</td>\n",
       "      <td>7.024903</td>\n",
       "      <td>25.637577</td>\n",
       "      <td>23.970770</td>\n",
       "      <td>15.906756</td>\n",
       "      <td>17.071120</td>\n",
       "      <td>19.420206</td>\n",
       "      <td>27.466940</td>\n",
       "      <td>19.667906</td>\n",
       "      <td>12.926063</td>\n",
       "      <td>21.268826</td>\n",
       "    </tr>\n",
       "    <tr>\n",
       "      <th>3</th>\n",
       "      <td>25.797827</td>\n",
       "      <td>15.005845</td>\n",
       "      <td>38.327780</td>\n",
       "      <td>17.410927</td>\n",
       "      <td>24.781015</td>\n",
       "      <td>24.142265</td>\n",
       "      <td>28.708849</td>\n",
       "      <td>24.912224</td>\n",
       "      <td>34.208630</td>\n",
       "      <td>7.768072</td>\n",
       "      <td>...</td>\n",
       "      <td>18.137447</td>\n",
       "      <td>17.001883</td>\n",
       "      <td>28.236448</td>\n",
       "      <td>8.203891</td>\n",
       "      <td>33.710087</td>\n",
       "      <td>32.366140</td>\n",
       "      <td>18.083939</td>\n",
       "      <td>13.657871</td>\n",
       "      <td>39.918350</td>\n",
       "      <td>22.797755</td>\n",
       "    </tr>\n",
       "    <tr>\n",
       "      <th>4</th>\n",
       "      <td>52.621323</td>\n",
       "      <td>43.983044</td>\n",
       "      <td>35.473480</td>\n",
       "      <td>34.952187</td>\n",
       "      <td>41.388320</td>\n",
       "      <td>27.085608</td>\n",
       "      <td>63.690487</td>\n",
       "      <td>66.164300</td>\n",
       "      <td>81.381160</td>\n",
       "      <td>34.671800</td>\n",
       "      <td>...</td>\n",
       "      <td>38.263668</td>\n",
       "      <td>30.839716</td>\n",
       "      <td>31.629404</td>\n",
       "      <td>36.006042</td>\n",
       "      <td>36.269203</td>\n",
       "      <td>63.078373</td>\n",
       "      <td>24.861862</td>\n",
       "      <td>42.675133</td>\n",
       "      <td>24.927597</td>\n",
       "      <td>43.144091</td>\n",
       "    </tr>\n",
       "    <tr>\n",
       "      <th>...</th>\n",
       "      <td>...</td>\n",
       "      <td>...</td>\n",
       "      <td>...</td>\n",
       "      <td>...</td>\n",
       "      <td>...</td>\n",
       "      <td>...</td>\n",
       "      <td>...</td>\n",
       "      <td>...</td>\n",
       "      <td>...</td>\n",
       "      <td>...</td>\n",
       "      <td>...</td>\n",
       "      <td>...</td>\n",
       "      <td>...</td>\n",
       "      <td>...</td>\n",
       "      <td>...</td>\n",
       "      <td>...</td>\n",
       "      <td>...</td>\n",
       "      <td>...</td>\n",
       "      <td>...</td>\n",
       "      <td>...</td>\n",
       "      <td>...</td>\n",
       "    </tr>\n",
       "    <tr>\n",
       "      <th>95</th>\n",
       "      <td>37.876633</td>\n",
       "      <td>62.507687</td>\n",
       "      <td>42.798634</td>\n",
       "      <td>57.116398</td>\n",
       "      <td>37.202915</td>\n",
       "      <td>58.549763</td>\n",
       "      <td>63.983196</td>\n",
       "      <td>81.659690</td>\n",
       "      <td>62.062570</td>\n",
       "      <td>60.563090</td>\n",
       "      <td>...</td>\n",
       "      <td>40.296870</td>\n",
       "      <td>68.149660</td>\n",
       "      <td>76.291760</td>\n",
       "      <td>37.232628</td>\n",
       "      <td>53.328250</td>\n",
       "      <td>66.434525</td>\n",
       "      <td>55.811570</td>\n",
       "      <td>37.757088</td>\n",
       "      <td>45.344860</td>\n",
       "      <td>57.045203</td>\n",
       "    </tr>\n",
       "    <tr>\n",
       "      <th>96</th>\n",
       "      <td>91.564240</td>\n",
       "      <td>25.902315</td>\n",
       "      <td>24.062170</td>\n",
       "      <td>28.626812</td>\n",
       "      <td>40.923900</td>\n",
       "      <td>30.009083</td>\n",
       "      <td>88.191600</td>\n",
       "      <td>69.638405</td>\n",
       "      <td>101.234170</td>\n",
       "      <td>32.842926</td>\n",
       "      <td>...</td>\n",
       "      <td>22.862755</td>\n",
       "      <td>45.925755</td>\n",
       "      <td>11.528861</td>\n",
       "      <td>15.320373</td>\n",
       "      <td>74.981094</td>\n",
       "      <td>99.933105</td>\n",
       "      <td>12.569517</td>\n",
       "      <td>73.120680</td>\n",
       "      <td>20.209908</td>\n",
       "      <td>52.133412</td>\n",
       "    </tr>\n",
       "    <tr>\n",
       "      <th>97</th>\n",
       "      <td>36.080505</td>\n",
       "      <td>39.103400</td>\n",
       "      <td>38.648746</td>\n",
       "      <td>24.977476</td>\n",
       "      <td>49.920200</td>\n",
       "      <td>35.743140</td>\n",
       "      <td>16.571440</td>\n",
       "      <td>15.189511</td>\n",
       "      <td>23.115650</td>\n",
       "      <td>26.463161</td>\n",
       "      <td>...</td>\n",
       "      <td>45.195835</td>\n",
       "      <td>40.367780</td>\n",
       "      <td>25.725880</td>\n",
       "      <td>33.415764</td>\n",
       "      <td>39.884630</td>\n",
       "      <td>22.242868</td>\n",
       "      <td>36.303910</td>\n",
       "      <td>39.328358</td>\n",
       "      <td>22.468248</td>\n",
       "      <td>31.512073</td>\n",
       "    </tr>\n",
       "    <tr>\n",
       "      <th>98</th>\n",
       "      <td>20.547860</td>\n",
       "      <td>27.329180</td>\n",
       "      <td>23.003288</td>\n",
       "      <td>28.969067</td>\n",
       "      <td>17.033590</td>\n",
       "      <td>18.916320</td>\n",
       "      <td>17.325975</td>\n",
       "      <td>22.479403</td>\n",
       "      <td>26.683462</td>\n",
       "      <td>18.041494</td>\n",
       "      <td>...</td>\n",
       "      <td>38.214970</td>\n",
       "      <td>45.431286</td>\n",
       "      <td>18.715864</td>\n",
       "      <td>22.693108</td>\n",
       "      <td>45.241165</td>\n",
       "      <td>11.115711</td>\n",
       "      <td>20.843240</td>\n",
       "      <td>33.438800</td>\n",
       "      <td>23.334816</td>\n",
       "      <td>27.997668</td>\n",
       "    </tr>\n",
       "    <tr>\n",
       "      <th>99</th>\n",
       "      <td>67.061770</td>\n",
       "      <td>54.568245</td>\n",
       "      <td>63.343838</td>\n",
       "      <td>58.290623</td>\n",
       "      <td>44.808360</td>\n",
       "      <td>30.204040</td>\n",
       "      <td>51.215140</td>\n",
       "      <td>61.470970</td>\n",
       "      <td>58.106650</td>\n",
       "      <td>32.115710</td>\n",
       "      <td>...</td>\n",
       "      <td>61.131440</td>\n",
       "      <td>49.188293</td>\n",
       "      <td>48.829746</td>\n",
       "      <td>50.943710</td>\n",
       "      <td>38.204998</td>\n",
       "      <td>50.130380</td>\n",
       "      <td>49.976090</td>\n",
       "      <td>52.607270</td>\n",
       "      <td>31.028433</td>\n",
       "      <td>48.298223</td>\n",
       "    </tr>\n",
       "  </tbody>\n",
       "</table>\n",
       "<p>100 rows × 51 columns</p>\n",
       "</div>"
      ],
      "text/plain": [
       "            0          1          2          3          4          5  \\\n",
       "0    0.000000   0.000000   0.000000   0.000000   0.000000   0.000000   \n",
       "1   46.324585  50.084620  27.260536  40.508575  40.320354  33.031452   \n",
       "2   18.484009  21.217888  12.914585  19.163000  15.538988  40.199165   \n",
       "3   25.797827  15.005845  38.327780  17.410927  24.781015  24.142265   \n",
       "4   52.621323  43.983044  35.473480  34.952187  41.388320  27.085608   \n",
       "..        ...        ...        ...        ...        ...        ...   \n",
       "95  37.876633  62.507687  42.798634  57.116398  37.202915  58.549763   \n",
       "96  91.564240  25.902315  24.062170  28.626812  40.923900  30.009083   \n",
       "97  36.080505  39.103400  38.648746  24.977476  49.920200  35.743140   \n",
       "98  20.547860  27.329180  23.003288  28.969067  17.033590  18.916320   \n",
       "99  67.061770  54.568245  63.343838  58.290623  44.808360  30.204040   \n",
       "\n",
       "            6          7           8          9  ...         41         42  \\\n",
       "0    0.000000   0.000000    0.000000   0.000000  ...   0.000000   0.000000   \n",
       "1   28.927416  45.057274   37.992620  19.394957  ...  31.647535  38.586956   \n",
       "2   13.867811  22.487036   21.987583  23.401094  ...   7.024903  25.637577   \n",
       "3   28.708849  24.912224   34.208630   7.768072  ...  18.137447  17.001883   \n",
       "4   63.690487  66.164300   81.381160  34.671800  ...  38.263668  30.839716   \n",
       "..        ...        ...         ...        ...  ...        ...        ...   \n",
       "95  63.983196  81.659690   62.062570  60.563090  ...  40.296870  68.149660   \n",
       "96  88.191600  69.638405  101.234170  32.842926  ...  22.862755  45.925755   \n",
       "97  16.571440  15.189511   23.115650  26.463161  ...  45.195835  40.367780   \n",
       "98  17.325975  22.479403   26.683462  18.041494  ...  38.214970  45.431286   \n",
       "99  51.215140  61.470970   58.106650  32.115710  ...  61.131440  49.188293   \n",
       "\n",
       "           43         44         45         46         47         48  \\\n",
       "0    0.000000   0.000000   0.000000   0.000000   0.000000   0.000000   \n",
       "1   18.990576  21.252000  35.566906  45.848650  21.971952  34.102474   \n",
       "2   23.970770  15.906756  17.071120  19.420206  27.466940  19.667906   \n",
       "3   28.236448   8.203891  33.710087  32.366140  18.083939  13.657871   \n",
       "4   31.629404  36.006042  36.269203  63.078373  24.861862  42.675133   \n",
       "..        ...        ...        ...        ...        ...        ...   \n",
       "95  76.291760  37.232628  53.328250  66.434525  55.811570  37.757088   \n",
       "96  11.528861  15.320373  74.981094  99.933105  12.569517  73.120680   \n",
       "97  25.725880  33.415764  39.884630  22.242868  36.303910  39.328358   \n",
       "98  18.715864  22.693108  45.241165  11.115711  20.843240  33.438800   \n",
       "99  48.829746  50.943710  38.204998  50.130380  49.976090  52.607270   \n",
       "\n",
       "           49       Mean  \n",
       "0    0.000000   0.000000  \n",
       "1   40.638245  34.989878  \n",
       "2   12.926063  21.268826  \n",
       "3   39.918350  22.797755  \n",
       "4   24.927597  43.144091  \n",
       "..        ...        ...  \n",
       "95  45.344860  57.045203  \n",
       "96  20.209908  52.133412  \n",
       "97  22.468248  31.512073  \n",
       "98  23.334816  27.997668  \n",
       "99  31.028433  48.298223  \n",
       "\n",
       "[100 rows x 51 columns]"
      ]
     },
     "execution_count": 143,
     "metadata": {},
     "output_type": "execute_result"
    }
   ],
   "source": [
    "data"
   ]
  },
  {
   "cell_type": "code",
   "execution_count": 155,
   "id": "6a2cfa60-cbe5-408d-b7dd-edae7a4632cd",
   "metadata": {},
   "outputs": [
    {
     "data": {
      "image/png": "[encoded data removed]",
      "text/plain": [
       "<Figure size 1152x720 with 1 Axes>"
      ]
     },
     "metadata": {
      "needs_background": "light"
     },
     "output_type": "display_data"
    }
   ],
   "source": [
    "x = np.linspace(0,100,100)\n",
    "ball = 10*x\n",
    "diffusive = x**0.5\n",
    "fig = plt.figure(figsize = (16,10))\n",
    "ax = fig.add_subplot(111)\n",
    "# ax.set_xscale('log')\n",
    "# ax.set_yscale('log')\n",
    "# for col in data.columns:\n",
    "#     vals = data[col].ewm(span = 20).mean().values        \n",
    "#     ax.plot(x,vals)\n",
    "\n",
    "ax.plot(data['Mean'].ewm(span = 10).mean().values)\n",
    "    \n",
    "ax.plot(x,ball)\n",
    "ax.plot(x,diffusive+vals[10], 'k--')\n",
    "ax.grid()\n",
    "ax.set_title('MSD vs frames')\n",
    "ax.set_xlim((0,100))\n",
    "ax.set_ylim((0,200))\n",
    "plt.show()"
   ]
  },
  {
   "cell_type": "code",
   "execution_count": 115,
   "id": "dd262fce-7763-490b-9543-1fe6a39f7bb0",
   "metadata": {},
   "outputs": [
    {
     "data": {
      "text/plain": [
       "array([   0.        ,  483.008925  ,  927.06731538,  435.2341575 ,\n",
       "       1785.45679091, 2185.98929093,  739.60973373,  553.00777016,\n",
       "       1166.50289217, 2632.50625762, 1682.18085459,  858.22550111,\n",
       "       1007.01952703, 2058.50119552, 1642.90770288, 2685.72925852,\n",
       "        944.01865669, 1227.02868629,  770.61144837,  985.24741619,\n",
       "       1267.56107209,  514.12576401, 1706.84838801, 1688.16292934,\n",
       "       1097.64557645, 1896.79152548, 2110.31364183,  887.09481394,\n",
       "        953.20449798,  340.61345399,  254.65624466,  764.59388155,\n",
       "       1247.20356052, 1974.12918684,  847.36243561, 1003.19281187,\n",
       "        930.39027062, 1010.52495687, 1319.46418562, 1104.12046187,\n",
       "        892.00845396, 2552.92841799, 1245.02233933,  816.22668644,\n",
       "       1239.28596215, 1529.63698738,  800.45795579,  657.01007193,\n",
       "        472.19964398,  884.24748133, 1750.73849378, 1569.74136459,\n",
       "        689.8689482 ,  560.7340494 , 2040.99321647, 1135.92793882,\n",
       "       1239.57104627, 1635.51608209, 1083.34889403, 2511.32609801,\n",
       "       1508.23219267,  897.71399756, 2114.31126585, 1487.18942195,\n",
       "       1981.98780732, 1502.69280244, 1777.37433415, 1444.54471138,\n",
       "       1530.82237046, 1607.29945682,  806.44419894,  298.76215631,\n",
       "       1547.07778544,  821.26232848,  823.68754283,  338.13800761,\n",
       "        738.07875587, 4011.68805196, 1625.61452399,  610.967768  ,\n",
       "       1085.757256  ,  990.30168533, 3890.55822844, 2098.08100948,\n",
       "       1522.45166983, 3208.44435661, 2980.71178554, 3399.63832851,\n",
       "       1432.93846284,  778.32055428, 4900.98318476, 3682.31892825,\n",
       "       2313.78650942,  954.35380314,  908.87086771, 3238.13602257,\n",
       "       2481.59954086, 1421.17014029, 2159.8763801 , 1816.12286003])"
      ]
     },
     "execution_count": 115,
     "metadata": {},
     "output_type": "execute_result"
    }
   ],
   "source": [
    "vals"
   ]
  },
  {
   "cell_type": "code",
   "execution_count": null,
   "id": "1877ffda-6249-4418-8b50-221fd97e21ef",
   "metadata": {},
   "outputs": [],
   "source": []
  },
  {
   "cell_type": "code",
   "execution_count": 76,
   "id": "26f36e8e-8214-4757-a3f4-d911cdc15ca1",
   "metadata": {},
   "outputs": [],
   "source": [
    "def linear_regression(Y , X = None):\n",
    "    X = np.array(range(len(Y)))\n",
    "        \n",
    "    n = len(X)\n",
    "    S_x = np.sum(X)\n",
    "    S_y = np.sum(Y)\n",
    "    S_xy = np.sum(np.multiply(X,Y))\n",
    "    S_xx = np.sum(np.multiply(X,X))\n",
    "    S_yy = np.sum(np.multiply(Y,Y))\n",
    "    D = n * S_xx - S_x ** 2\n",
    "\n",
    "    a = (n * S_xy - S_x * S_y) / D\n",
    "    b = (S_xx * S_y - S_x * S_xy) / D\n",
    "\n",
    "    d = Y - (a * X + b)\n",
    "    d = np.multiply(d,d)\n",
    "    d = (np.sum(d) / (n-2)) ** 0.5\n",
    "    a_err = d * (n/D)**0.5\n",
    "    b_err = d * (S_xx/D)**0.5\n",
    "\n",
    "    return a, a_err, b, b_err"
   ]
  },
  {
   "cell_type": "code",
   "execution_count": 79,
   "id": "77a753ae-9dbf-4d8e-ba34-824873cff06b",
   "metadata": {},
   "outputs": [
    {
     "data": {
      "text/plain": [
       "(1.6062293601651074, 0.5165966971293697, 315.8788976608188, 5.144397077623373)"
      ]
     },
     "execution_count": 79,
     "metadata": {},
     "output_type": "execute_result"
    }
   ],
   "source": [
    "linear_regression(vals[80:])"
   ]
  },
  {
   "cell_type": "code",
   "execution_count": 86,
   "id": "653f20cc-62ce-4cc6-98d0-cef1f0ca358c",
   "metadata": {},
   "outputs": [
    {
     "name": "stderr",
     "output_type": "stream",
     "text": [
      "<ipython-input-76-5092f2e69efa>:17: RuntimeWarning: divide by zero encountered in double_scalars\n",
      "  d = (np.sum(d) / (n-2)) ** 0.5\n"
     ]
    }
   ],
   "source": [
    "slope = []\n",
    "for i in range(4,len(vals)-1):\n",
    "    slope.append(linear_regression(vals[i:])[0])"
   ]
  },
  {
   "cell_type": "code",
   "execution_count": 87,
   "id": "eda4e384-b3b2-4f75-97c1-b56c022685d6",
   "metadata": {},
   "outputs": [
    {
     "data": {
      "text/plain": [
       "[<matplotlib.lines.Line2D at 0x2add34061430>]"
      ]
     },
     "execution_count": 87,
     "metadata": {},
     "output_type": "execute_result"
    },
    {
     "data": {
      "image/png": "[encoded data removed]",
      "text/plain": [
       "<Figure size 432x288 with 1 Axes>"
      ]
     },
     "metadata": {
      "needs_background": "light"
     },
     "output_type": "display_data"
    }
   ],
   "source": [
    "plt.plot(slope)"
   ]
  },
  {
   "cell_type": "code",
   "execution_count": 88,
   "id": "005dc2c9-476d-4c21-8093-941bcb5a984b",
   "metadata": {},
   "outputs": [],
   "source": [
    "def ma(catalog, span = 10):\n",
    "    new = catalog.copy()\n",
    "    for i in range(span, len(catalog)):\n",
    "        new[i] = np.mean(new[i-span:i])\n",
    "    return new[span:]"
   ]
  },
  {
   "cell_type": "code",
   "execution_count": 89,
   "id": "f5ad8a45-f894-4b09-9353-f9ed570ae576",
   "metadata": {},
   "outputs": [
    {
     "data": {
      "text/plain": [
       "[<matplotlib.lines.Line2D at 0x2add342915b0>]"
      ]
     },
     "execution_count": 89,
     "metadata": {},
     "output_type": "execute_result"
    },
    {
     "data": {
      "image/png": "[encoded data removed]",
      "text/plain": [
       "<Figure size 432x288 with 1 Axes>"
      ]
     },
     "metadata": {
      "needs_background": "light"
     },
     "output_type": "display_data"
    }
   ],
   "source": [
    "new = ma(slope)\n",
    "plt.plot(new)"
   ]
  },
  {
   "cell_type": "code",
   "execution_count": null,
   "id": "4849f6bc-28c0-4aad-9d77-09dcb84f7472",
   "metadata": {},
   "outputs": [],
   "source": []
  }
 ],
 "metadata": {
  "kernelspec": {
   "display_name": "Python 3",
   "language": "python",
   "name": "python3"
  },
  "language_info": {
   "codemirror_mode": {
    "name": "ipython",
    "version": 3
   },
   "file_extension": ".py",
   "mimetype": "text/x-python",
   "name": "python",
   "nbconvert_exporter": "python",
   "pygments_lexer": "ipython3",
   "version": "3.9.12"
  }
 },
 "nbformat": 4,
 "nbformat_minor": 5
}
