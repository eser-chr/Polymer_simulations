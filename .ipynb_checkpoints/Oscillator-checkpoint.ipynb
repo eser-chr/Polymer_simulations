{
 "cells": [
  {
   "cell_type": "code",
   "execution_count": null,
   "id": "a7edebba-8c6a-47a6-97ff-e620ec3d79ab",
   "metadata": {},
   "outputs": [],
   "source": [
    "import numpy as np\n",
    "import matplotlib.pyplot as plt\n",
    "from scipy.fft import fft, ifft, fftfreq\n",
    "\n",
    "STEPS = 1000000\n",
    "TIME = 10000\n",
    "dt = TIME / STEPS\n",
    "INITIAL_x = 0\n",
    "INITIAL_v = 0\n",
    "k = 0.5\n",
    "t = np.linspace(0, TIME, STEPS)"
   ]
  },
  {
   "cell_type": "code",
   "execution_count": 56,
   "id": "4fef1215-d6cc-4f44-af06-e6b16466b71d",
   "metadata": {},
   "outputs": [],
   "source": [
    "s = 0.01 * (DT)**0.5\n",
    "r = s * np.random.randn(STEPS)\n",
    "x = INITIAL_x\n",
    "v = INITIAL_v\n",
    "pos = []\n",
    "\n",
    "for i in range(STEPS):\n",
    "    F = - k*x + r[i]\n",
    "    v += dt * F\n",
    "    x += dt * v\n",
    "    pos.append(x)\n",
    "    "
   ]
  },
  {
   "cell_type": "code",
   "execution_count": 57,
   "id": "b4fb3f7c-777a-4e2f-a192-c49f7cb7be66",
   "metadata": {},
   "outputs": [
    {
     "data": {
      "image/png": "[encoded data removed]",
      "text/plain": [
       "<Figure size 432x288 with 1 Axes>"
      ]
     },
     "metadata": {
      "needs_background": "light"
     },
     "output_type": "display_data"
    }
   ],
   "source": [
    "\n",
    "plt.plot(t,pos)\n",
    "plt.title('x vs t')\n",
    "plt.xlabel('t(AU)')\n",
    "plt.ylabel('x(AU)')\n",
    "plt.grid()\n",
    "plt.show()\n",
    "    "
   ]
  },
  {
   "cell_type": "code",
   "execution_count": 58,
   "id": "10991c97-6d0e-4203-9466-ae3383d9a9ee",
   "metadata": {},
   "outputs": [
    {
     "data": {
      "text/plain": [
       "-9.519288565466459e-09"
      ]
     },
     "execution_count": 58,
     "metadata": {},
     "output_type": "execute_result"
    }
   ],
   "source": [
    "np.mean(pos)"
   ]
  },
  {
   "cell_type": "code",
   "execution_count": 66,
   "id": "c2b54443-7cb3-426f-a4cc-fa0093eb73ba",
   "metadata": {},
   "outputs": [
    {
     "data": {
      "text/plain": [
       "0.14672817601321156"
      ]
     },
     "execution_count": 66,
     "metadata": {},
     "output_type": "execute_result"
    }
   ],
   "source": [
    "(np.var(pos[10000:])*STEPS)**0.5"
   ]
  },
  {
   "cell_type": "code",
   "execution_count": 61,
   "id": "7a65dd12-6f3f-417e-8506-ceb68c51d291",
   "metadata": {},
   "outputs": [],
   "source": [
    "yf = fft(pos)\n",
    "xf = fftfreq(STEPS,dt)[:STEPS//2]"
   ]
  },
  {
   "cell_type": "code",
   "execution_count": 62,
   "id": "72b4520e-be9c-4335-9365-e24dbb3f80a5",
   "metadata": {},
   "outputs": [
    {
     "data": {
      "image/png": "[encoded data removed]",
      "text/plain": [
       "<Figure size 432x288 with 1 Axes>"
      ]
     },
     "metadata": {
      "needs_background": "light"
     },
     "output_type": "display_data"
    }
   ],
   "source": [
    "K = 2000\n",
    "plt.plot(xf[100:K],yf[100:K])\n",
    "plt.grid()\n",
    "plt.show()"
   ]
  },
  {
   "cell_type": "markdown",
   "id": "29ed811a-8121-4b02-8d66-4c2990be9f4b",
   "metadata": {},
   "source": [
    "ADD A SECOND SPRING"
   ]
  },
  {
   "cell_type": "code",
   "execution_count": null,
   "id": "f84c4db5-9479-49e1-b32f-e04b62350fe6",
   "metadata": {},
   "outputs": [],
   "source": [
    "Initial_pos = [0,1]\n",
    "Initial_vel = [0,0]\n",
    "R1 = s* np.random.randn(STEPS)\n",
    "R2 = s* np.random.randn(STEPS)"
   ]
  },
  {
   "cell_type": "code",
   "execution_count": null,
   "id": "5bba05ca-8318-4501-872c-52b389e5a151",
   "metadata": {},
   "outputs": [],
   "source": []
  },
  {
   "cell_type": "code",
   "execution_count": null,
   "id": "38e4ffb9-b59b-46e5-8e96-6fd75d5a8c6d",
   "metadata": {},
   "outputs": [],
   "source": []
  },
  {
   "cell_type": "code",
   "execution_count": null,
   "id": "ef7160cd-df46-45d9-b83a-d2467ede6f97",
   "metadata": {},
   "outputs": [],
   "source": []
  },
  {
   "cell_type": "code",
   "execution_count": null,
   "id": "74d38ef2-22cd-4e72-8a1e-a9c08352903f",
   "metadata": {},
   "outputs": [],
   "source": []
  },
  {
   "cell_type": "code",
   "execution_count": null,
   "id": "5d976f86-3257-44b7-a36f-3876c53f884d",
   "metadata": {},
   "outputs": [],
   "source": []
  },
  {
   "cell_type": "code",
   "execution_count": null,
   "id": "fa9d803e-fe9b-4ea9-8cff-f89489a91251",
   "metadata": {},
   "outputs": [],
   "source": []
  }
 ],
 "metadata": {
  "kernelspec": {
   "display_name": "Python [conda env:.conda-chris]",
   "language": "python",
   "name": "conda-env-.conda-chris-py"
  },
  "language_info": {
   "codemirror_mode": {
    "name": "ipython",
    "version": 3
   },
   "file_extension": ".py",
   "mimetype": "text/x-python",
   "name": "python",
   "nbconvert_exporter": "python",
   "pygments_lexer": "ipython3",
   "version": "3.10.4"
  }
 },
 "nbformat": 4,
 "nbformat_minor": 5
}
