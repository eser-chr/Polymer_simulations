{
 "cells": [
  {
   "cell_type": "code",
   "execution_count": 14,
   "id": "fc7b2887-d878-47b4-ac41-e477e5873e87",
   "metadata": {},
   "outputs": [],
   "source": [
    "import pandas as pd\n",
    "import matplotlib.pyplot as plt\n",
    "import numpy as np\n",
    "import seaborn as sns\n",
    "import os \n",
    "import sys\n",
    "import subprocess"
   ]
  },
  {
   "cell_type": "code",
   "execution_count": 15,
   "id": "93fb9d30-8502-4973-b60c-fab5721aa07f",
   "metadata": {},
   "outputs": [],
   "source": [
    "DATA = pd.read_csv('catalog.csv')"
   ]
  },
  {
   "cell_type": "code",
   "execution_count": 19,
   "id": "3cf88ab0-2795-4ac5-ae28-fdbb19ba2d69",
   "metadata": {},
   "outputs": [],
   "source": [
    "def create_list(id_list:list):\n",
    "    path = [os.path.abspath(f'./trajectory/{i}') for i in id_list]\n",
    "    return path   \n",
    "    \n",
    "def create_subcatalog(catalog:pd.DataFrame, id_list:list, path_folder:str)->bool:\n",
    "    '''Creates a csv file of the trajectory ides and the variables of that simulation. Returns 0 if no problem'''    \n",
    "    new = catalog[catalog['id'].isin(id_list)]\n",
    "    new.to_csv(f'{path_folder}/basic.csv', index = False)\n",
    "    return 0\n",
    "    \n",
    "def create_pickle(id_list:list, FOLDER):\n",
    "    l = create_list(id_list)\n",
    "    \n",
    "    with open(f'../{FOLDER}/paths_{len(l)}', 'wb') as f:\n",
    "        pickle.dump(l, f)\n",
    "    create_subcatalog(DATA, id_list, f'../{FOLDER}')"
   ]
  },
  {
   "cell_type": "code",
   "execution_count": 21,
   "id": "2f5757a2-221f-4d8a-a8a7-c37accfced6e",
   "metadata": {},
   "outputs": [
    {
     "data": {
      "text/plain": [
       "0"
      ]
     },
     "execution_count": 21,
     "metadata": {},
     "output_type": "execute_result"
    }
   ],
   "source": [
    "create_symlink(386,'../TEST')"
   ]
  },
  {
   "cell_type": "code",
   "execution_count": 22,
   "id": "aa48765e-b647-455b-bc27-1f1e225624dd",
   "metadata": {},
   "outputs": [],
   "source": [
    "import pickle"
   ]
  },
  {
   "cell_type": "code",
   "execution_count": 39,
   "id": "4482a4a0-efe8-490e-9e52-31dfa9f4f517",
   "metadata": {},
   "outputs": [],
   "source": []
  },
  {
   "cell_type": "code",
   "execution_count": null,
   "id": "9f8b84fc-46b9-4450-bb6b-fa58b9fad188",
   "metadata": {},
   "outputs": [],
   "source": []
  },
  {
   "cell_type": "code",
   "execution_count": null,
   "id": "1d2016d2-9e11-4d46-8d14-5df41f8b65da",
   "metadata": {},
   "outputs": [],
   "source": []
  },
  {
   "cell_type": "code",
   "execution_count": null,
   "id": "07f04793-31c5-4814-9297-f1cb9c749da0",
   "metadata": {},
   "outputs": [],
   "source": []
  },
  {
   "cell_type": "code",
   "execution_count": null,
   "id": "f6ac0f69-9c0f-4aca-b69f-bc78f4c2bd0e",
   "metadata": {},
   "outputs": [],
   "source": []
  },
  {
   "cell_type": "code",
   "execution_count": null,
   "id": "b3a0a5ba-4a95-4a81-bb69-ecade98bbc76",
   "metadata": {},
   "outputs": [],
   "source": []
  }
 ],
 "metadata": {
  "kernelspec": {
   "display_name": "Python [conda env:.conda-chris]",
   "language": "python",
   "name": "conda-env-.conda-chris-py"
  },
  "language_info": {
   "codemirror_mode": {
    "name": "ipython",
    "version": 3
   },
   "file_extension": ".py",
   "mimetype": "text/x-python",
   "name": "python",
   "nbconvert_exporter": "python",
   "pygments_lexer": "ipython3",
   "version": "3.10.4"
  }
 },
 "nbformat": 4,
 "nbformat_minor": 5
}
